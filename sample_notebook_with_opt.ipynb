{
 "cells": [
  {
   "cell_type": "markdown",
   "metadata": {},
   "source": [
    "# Introduction\n",
    "This notebook gives an example of how to work with the provided training data and utils.\n",
    "\n",
    "If you want to learn more about the different voltage levels in Europe you can find an article [here](https://www.axpo.com/ch/de/ueber-uns/magazin.detail.html/magazin/energiemarkt/der-weg-des-stroms.html) (unfortunately only available in German but google translate might help you out).\n",
    "\n",
    "## To get a better feeling for our problem, let's plot some data\n",
    "The reward or penalty we get in a substation for following the target voltage is dependent on the deviation of the currently measured voltage $V_m$ from the target voltage $V_t$ and the reactive power. The point system we use is a simplification of the reward system for voltage support. The dependance on the reactive power can be simplified by assuming capacitive behavior if the shunt reactor is turned off and inductive behavior if it is turned on."
   ]
  },
  {
   "cell_type": "code",
   "execution_count": 25,
   "metadata": {},
   "outputs": [
    {
     "name": "stdout",
     "output_type": "stream",
     "text": [
      "The autoreload extension is already loaded. To reload it, use:\n",
      "  %reload_ext autoreload\n"
     ]
    },
    {
     "data": {
      "text/html": [
       "<iframe\n",
       "    scrolling=\"no\"\n",
       "    width=\"100%\"\n",
       "    height=\"545px\"\n",
       "    src=\"iframe_figures/figure_25.html\"\n",
       "    frameborder=\"0\"\n",
       "    allowfullscreen\n",
       "></iframe>\n"
      ]
     },
     "metadata": {},
     "output_type": "display_data"
    }
   ],
   "source": [
    "%load_ext autoreload\n",
    "%autoreload 2\n",
    "\n",
    "# plot the reward function with plotly as line plot\n",
    "import plotly.io as pio\n",
    "import numpy as np\n",
    "import plotly.graph_objs as go\n",
    "from plotly.subplots import make_subplots\n",
    "\n",
    "from utils import eval\n",
    "\n",
    "pio.renderers.default = 'iframe'\n",
    "\n",
    "dV = np.arange(-2.5, 2.5, 0.001)\n",
    "\n",
    "# plot the reward function using plotly\n",
    "fig = make_subplots(rows=2, cols=1, shared_xaxes=True, vertical_spacing=0.05)\n",
    "fig.add_trace(go.Scatter(x=dV, y=eval.reward_function(dV, np.ones(dV.shape, dtype=bool)), name='Reactor On'), row=1, col=1)\n",
    "fig.add_trace(go.Scatter(x=dV, y=eval.reward_function(dV, ~np.ones(dV.shape, dtype=bool)), name='Reactor Off'), row=2, col=1)\n",
    "fig.update_layout(title='Reward/Penalty per 15min')\n",
    "fig.update_xaxes(title_text='\\u0394V', row=2, col=1)\n",
    "fig.update_yaxes(title_text='Reward', row=2, col=1)\n",
    "fig.update_yaxes(title_text='Reward', row=1, col=1)\n",
    "fig.show()"
   ]
  },
  {
   "cell_type": "markdown",
   "metadata": {},
   "source": [
    "### Total Reward\n",
    "Let's calculate the financial reward for the timeseries of voltage deviations over a one hour timespan. We will have a look at two different scenarios of operating the shunt reactor and see their impact on our reward. A shunt reactor state of `True` means it is turned on and should lower the voltage."
   ]
  },
  {
   "cell_type": "code",
   "execution_count": 26,
   "metadata": {},
   "outputs": [
    {
     "data": {
      "text/html": [
       "<iframe\n",
       "    scrolling=\"no\"\n",
       "    width=\"100%\"\n",
       "    height=\"545px\"\n",
       "    src=\"iframe_figures/figure_26.html\"\n",
       "    frameborder=\"0\"\n",
       "    allowfullscreen\n",
       "></iframe>\n"
      ]
     },
     "metadata": {},
     "output_type": "display_data"
    },
    {
     "name": "stdout",
     "output_type": "stream",
     "text": [
      "The total reward for the plotted time in scenario 1 is 10.8.\n",
      "The total reward for the plotted time in scenario 2 is -12.946666666666664.\n"
     ]
    }
   ],
   "source": [
    "dV = np.array([0.2, -0.9, -2.1, 0.])\n",
    "shunt_reactor_states = np.array([True, True, False, False])\n",
    "reward_weighing_factors = np.linspace(1, 0.8, 4)\n",
    "\n",
    "# make a plot with three lines for dV, shunt_reactor_states and weighing_factors\n",
    "fig = make_subplots(rows=3, cols=1, shared_xaxes=True, vertical_spacing=0.05)\n",
    "fig.add_trace(go.Scatter(x=np.arange(dV.shape[0])/4, y=dV, name='\\u0394V'), row=1, col=1)\n",
    "fig.add_trace(go.Scatter(x=np.arange(shunt_reactor_states.shape[0])/4, y=shunt_reactor_states, name='Shunt Reactor States Scenario 1'), row=2, col=1)\n",
    "fig.add_trace(go.Scatter(x=np.arange(shunt_reactor_states.shape[0])/4, y=~shunt_reactor_states, name='Shunt Reactor States Scenario 2'), row=2, col=1)\n",
    "fig.add_trace(go.Scatter(x=np.arange(reward_weighing_factors.shape[0])/4, y=reward_weighing_factors, name='Weighing Factors'), row=3, col=1)\n",
    "fig.update_layout(title='Reward/Penalty per 15min')\n",
    "fig.update_xaxes(title_text='Time', row=3, col=1)\n",
    "fig.update_yaxes(title_text='\\u0394V', row=1, col=1)\n",
    "fig.update_yaxes(title_text='States', row=2, col=1)\n",
    "fig.update_yaxes(title_text='Reward Weighing', row=3, col=1)\n",
    "fig.show()\n",
    "\n",
    "print(f\"The total reward for the plotted time in scenario 1 is {eval.reward_sum(dV, shunt_reactor_states, weighing_factors=reward_weighing_factors)}.\")\n",
    "print(f\"The total reward for the plotted time in scenario 2 is {eval.reward_sum(dV, ~shunt_reactor_states, weighing_factors=reward_weighing_factors)}.\")"
   ]
  },
  {
   "cell_type": "markdown",
   "metadata": {},
   "source": [
    "# Historical Target vs. Real Voltage\n",
    "Let's plot the target and real voltage for both of the substations in the year 2022. The target voltage is the the one ending with `SOL`, while the real voltage is the one ending with `IST`. If you speak German, this will make sense, if not, you can probably remember it nevertheless. The `Reactive Power` of the shunt reactor can be seen in the lower plot. It is zero if the shunt reactor is turned off and controlled between 35Mvar and 90Mvar if it is on."
   ]
  },
  {
   "cell_type": "code",
   "execution_count": 27,
   "metadata": {},
   "outputs": [
    {
     "data": {
      "text/html": [
       "<iframe\n",
       "    scrolling=\"no\"\n",
       "    width=\"100%\"\n",
       "    height=\"545px\"\n",
       "    src=\"iframe_figures/figure_27.html\"\n",
       "    frameborder=\"0\"\n",
       "    allowfullscreen\n",
       "></iframe>\n"
      ]
     },
     "metadata": {},
     "output_type": "display_data"
    }
   ],
   "source": [
    "from utils import feature_eng, visualization\n",
    "\n",
    "station_b_train = feature_eng.get_data_df(\"train\", \"B\")\n",
    "\n",
    "visualization.plot_substation_measurements(station_b_train, \"B\")"
   ]
  },
  {
   "cell_type": "code",
   "execution_count": 28,
   "metadata": {},
   "outputs": [
    {
     "data": {
      "text/html": [
       "<iframe\n",
       "    scrolling=\"no\"\n",
       "    width=\"100%\"\n",
       "    height=\"545px\"\n",
       "    src=\"iframe_figures/figure_28.html\"\n",
       "    frameborder=\"0\"\n",
       "    allowfullscreen\n",
       "></iframe>\n"
      ]
     },
     "metadata": {},
     "output_type": "display_data"
    }
   ],
   "source": [
    "station_a_train = feature_eng.get_data_df(\"train\", \"A\")\n",
    "\n",
    "visualization.plot_substation_measurements(station_a_train, \"A\")"
   ]
  },
  {
   "cell_type": "markdown",
   "metadata": {},
   "source": [
    "We can see that there is a clear seasonal effect in the measured voltage. Especially during Summer, the Voltage tends to be too high. Furthermore, station A is not particularly interesting in that the voltage is almost always too high."
   ]
  },
  {
   "cell_type": "markdown",
   "metadata": {},
   "source": [
    "# Electricity Production\n",
    "Let's also plot the electricity production in Germany and Switzerland for the same period. Note that only for solar and wind production there are publicly available forecasts. We provided you with the other types of production to check out if they could be useful. However, using them for Voltage forecasts in practice might turn out challenging."
   ]
  },
  {
   "cell_type": "code",
   "execution_count": 29,
   "metadata": {},
   "outputs": [
    {
     "data": {
      "text/html": [
       "<iframe\n",
       "    scrolling=\"no\"\n",
       "    width=\"100%\"\n",
       "    height=\"545px\"\n",
       "    src=\"iframe_figures/figure_29.html\"\n",
       "    frameborder=\"0\"\n",
       "    allowfullscreen\n",
       "></iframe>\n"
      ]
     },
     "metadata": {},
     "output_type": "display_data"
    }
   ],
   "source": [
    "# Create a list of traces for each column\n",
    "columns2plot = [\n",
    "    'CH Solar [MW]',\n",
    "    'CH Hydro Pumped Storage [MW]',\n",
    "    'CH Hydro Run-of-river and poundage [MW]',\n",
    "]\n",
    "visualization.plot_production(station_b_train, columns2plot, title='Production in Switzerland')"
   ]
  },
  {
   "cell_type": "markdown",
   "metadata": {},
   "source": [
    "Let's also plot German Solar and Wind production. These probably have the biggest influence on the voltage in our substations."
   ]
  },
  {
   "cell_type": "code",
   "execution_count": 30,
   "metadata": {},
   "outputs": [
    {
     "data": {
      "text/html": [
       "<iframe\n",
       "    scrolling=\"no\"\n",
       "    width=\"100%\"\n",
       "    height=\"545px\"\n",
       "    src=\"iframe_figures/figure_30.html\"\n",
       "    frameborder=\"0\"\n",
       "    allowfullscreen\n",
       "></iframe>\n"
      ]
     },
     "metadata": {},
     "output_type": "display_data"
    }
   ],
   "source": [
    "# Create a list of traces for each column\n",
    "columns2plot = [\n",
    "    'DE Solar [MW]',\n",
    "    'DE Wind Onshore [MW]',\n",
    "]\n",
    "visualization.plot_production(station_b_train, columns2plot, title='Production in Germany')"
   ]
  },
  {
   "cell_type": "markdown",
   "metadata": {},
   "source": [
    "# Training a Model\n",
    "Let's start by training a simple model. For now, we will ignore the canundrum of impacting the system with our decision of turning the shunt reactor on or off. Addidtionally, we only use features that are known in advance (time, whether it's a holiday) or of which there are sufficiently reliable forecasts for the next 24 hours. That way our super simple first model can simply be a regression instead of a specific time series model."
   ]
  },
  {
   "cell_type": "code",
   "execution_count": 31,
   "metadata": {},
   "outputs": [
    {
     "data": {
      "text/html": [
       "<style>#sk-container-id-2 {color: black;}#sk-container-id-2 pre{padding: 0;}#sk-container-id-2 div.sk-toggleable {background-color: white;}#sk-container-id-2 label.sk-toggleable__label {cursor: pointer;display: block;width: 100%;margin-bottom: 0;padding: 0.3em;box-sizing: border-box;text-align: center;}#sk-container-id-2 label.sk-toggleable__label-arrow:before {content: \"▸\";float: left;margin-right: 0.25em;color: #696969;}#sk-container-id-2 label.sk-toggleable__label-arrow:hover:before {color: black;}#sk-container-id-2 div.sk-estimator:hover label.sk-toggleable__label-arrow:before {color: black;}#sk-container-id-2 div.sk-toggleable__content {max-height: 0;max-width: 0;overflow: hidden;text-align: left;background-color: #f0f8ff;}#sk-container-id-2 div.sk-toggleable__content pre {margin: 0.2em;color: black;border-radius: 0.25em;background-color: #f0f8ff;}#sk-container-id-2 input.sk-toggleable__control:checked~div.sk-toggleable__content {max-height: 200px;max-width: 100%;overflow: auto;}#sk-container-id-2 input.sk-toggleable__control:checked~label.sk-toggleable__label-arrow:before {content: \"▾\";}#sk-container-id-2 div.sk-estimator input.sk-toggleable__control:checked~label.sk-toggleable__label {background-color: #d4ebff;}#sk-container-id-2 div.sk-label input.sk-toggleable__control:checked~label.sk-toggleable__label {background-color: #d4ebff;}#sk-container-id-2 input.sk-hidden--visually {border: 0;clip: rect(1px 1px 1px 1px);clip: rect(1px, 1px, 1px, 1px);height: 1px;margin: -1px;overflow: hidden;padding: 0;position: absolute;width: 1px;}#sk-container-id-2 div.sk-estimator {font-family: monospace;background-color: #f0f8ff;border: 1px dotted black;border-radius: 0.25em;box-sizing: border-box;margin-bottom: 0.5em;}#sk-container-id-2 div.sk-estimator:hover {background-color: #d4ebff;}#sk-container-id-2 div.sk-parallel-item::after {content: \"\";width: 100%;border-bottom: 1px solid gray;flex-grow: 1;}#sk-container-id-2 div.sk-label:hover label.sk-toggleable__label {background-color: #d4ebff;}#sk-container-id-2 div.sk-serial::before {content: \"\";position: absolute;border-left: 1px solid gray;box-sizing: border-box;top: 0;bottom: 0;left: 50%;z-index: 0;}#sk-container-id-2 div.sk-serial {display: flex;flex-direction: column;align-items: center;background-color: white;padding-right: 0.2em;padding-left: 0.2em;position: relative;}#sk-container-id-2 div.sk-item {position: relative;z-index: 1;}#sk-container-id-2 div.sk-parallel {display: flex;align-items: stretch;justify-content: center;background-color: white;position: relative;}#sk-container-id-2 div.sk-item::before, #sk-container-id-2 div.sk-parallel-item::before {content: \"\";position: absolute;border-left: 1px solid gray;box-sizing: border-box;top: 0;bottom: 0;left: 50%;z-index: -1;}#sk-container-id-2 div.sk-parallel-item {display: flex;flex-direction: column;z-index: 1;position: relative;background-color: white;}#sk-container-id-2 div.sk-parallel-item:first-child::after {align-self: flex-end;width: 50%;}#sk-container-id-2 div.sk-parallel-item:last-child::after {align-self: flex-start;width: 50%;}#sk-container-id-2 div.sk-parallel-item:only-child::after {width: 0;}#sk-container-id-2 div.sk-dashed-wrapped {border: 1px dashed gray;margin: 0 0.4em 0.5em 0.4em;box-sizing: border-box;padding-bottom: 0.4em;background-color: white;}#sk-container-id-2 div.sk-label label {font-family: monospace;font-weight: bold;display: inline-block;line-height: 1.2em;}#sk-container-id-2 div.sk-label-container {text-align: center;}#sk-container-id-2 div.sk-container {/* jupyter's `normalize.less` sets `[hidden] { display: none; }` but bootstrap.min.css set `[hidden] { display: none !important; }` so we also need the `!important` here to be able to override the default hidden behavior on the sphinx rendered scikit-learn.org. See: https://github.com/scikit-learn/scikit-learn/issues/21755 */display: inline-block !important;position: relative;}#sk-container-id-2 div.sk-text-repr-fallback {display: none;}</style><div id=\"sk-container-id-2\" class=\"sk-top-container\"><div class=\"sk-text-repr-fallback\"><pre>Pipeline(steps=[(&#x27;standardscaler&#x27;, StandardScaler()),\n",
       "                (&#x27;linearregression&#x27;, LinearRegression())])</pre><b>In a Jupyter environment, please rerun this cell to show the HTML representation or trust the notebook. <br />On GitHub, the HTML representation is unable to render, please try loading this page with nbviewer.org.</b></div><div class=\"sk-container\" hidden><div class=\"sk-item sk-dashed-wrapped\"><div class=\"sk-label-container\"><div class=\"sk-label sk-toggleable\"><input class=\"sk-toggleable__control sk-hidden--visually\" id=\"sk-estimator-id-4\" type=\"checkbox\" ><label for=\"sk-estimator-id-4\" class=\"sk-toggleable__label sk-toggleable__label-arrow\">Pipeline</label><div class=\"sk-toggleable__content\"><pre>Pipeline(steps=[(&#x27;standardscaler&#x27;, StandardScaler()),\n",
       "                (&#x27;linearregression&#x27;, LinearRegression())])</pre></div></div></div><div class=\"sk-serial\"><div class=\"sk-item\"><div class=\"sk-estimator sk-toggleable\"><input class=\"sk-toggleable__control sk-hidden--visually\" id=\"sk-estimator-id-5\" type=\"checkbox\" ><label for=\"sk-estimator-id-5\" class=\"sk-toggleable__label sk-toggleable__label-arrow\">StandardScaler</label><div class=\"sk-toggleable__content\"><pre>StandardScaler()</pre></div></div></div><div class=\"sk-item\"><div class=\"sk-estimator sk-toggleable\"><input class=\"sk-toggleable__control sk-hidden--visually\" id=\"sk-estimator-id-6\" type=\"checkbox\" ><label for=\"sk-estimator-id-6\" class=\"sk-toggleable__label sk-toggleable__label-arrow\">LinearRegression</label><div class=\"sk-toggleable__content\"><pre>LinearRegression()</pre></div></div></div></div></div></div></div>"
      ],
      "text/plain": [
       "Pipeline(steps=[('standardscaler', StandardScaler()),\n",
       "                ('linearregression', LinearRegression())])"
      ]
     },
     "execution_count": 31,
     "metadata": {},
     "output_type": "execute_result"
    }
   ],
   "source": [
    "from sklearn.preprocessing import StandardScaler\n",
    "from sklearn.linear_model import LinearRegression\n",
    "from sklearn.pipeline import make_pipeline\n",
    "\n",
    "station_b_train = feature_eng.add_temporal_features(station_b_train)\n",
    "\n",
    "feature_columns = [\n",
    "    'hour_sin',\n",
    "    'hour_cos',\n",
    "    'holiday',\n",
    "    # 'CH Solar [MW]', # there are good open source forecasts for solar and wind production, for other production types there are none openly available\n",
    "    'Longwave Radiation',\n",
    "    'Temperature [2 m elevation corrected]',\n",
    "    'ZLQZLQSPHSDL_VNUUSOL',\n",
    "]\n",
    "X_train = station_b_train[feature_columns].values\n",
    "y_train = station_b_train['ZLQZLQSPHSDL_VNUUIST'].values\n",
    "pipe = make_pipeline(StandardScaler(), LinearRegression())\n",
    "pipe.fit(X_train, y_train)"
   ]
  },
  {
   "cell_type": "code",
   "execution_count": 32,
   "metadata": {},
   "outputs": [
    {
     "name": "stdout",
     "output_type": "stream",
     "text": [
      "Mean square error for the validation data: 0.6545706243114798\n"
     ]
    }
   ],
   "source": [
    "# Let's make a prediction for our validation data\n",
    "from sklearn.metrics import mean_squared_error\n",
    "\n",
    "station_b_val = feature_eng.add_temporal_features(feature_eng.get_data_df(\"val\", \"B\"))\n",
    "\n",
    "X_val = station_b_val[feature_columns].values\n",
    "y_val = station_b_val['ZLQZLQSPHSDL_VNUUIST'].values\n",
    "\n",
    "y_pred = pipe.predict(X_val)\n",
    "\n",
    "print('Mean square error for the validation data:', mean_squared_error(y_val, y_pred))"
   ]
  },
  {
   "cell_type": "code",
   "execution_count": 33,
   "metadata": {},
   "outputs": [
    {
     "data": {
      "text/html": [
       "<iframe\n",
       "    scrolling=\"no\"\n",
       "    width=\"100%\"\n",
       "    height=\"545px\"\n",
       "    src=\"iframe_figures/figure_33.html\"\n",
       "    frameborder=\"0\"\n",
       "    allowfullscreen\n",
       "></iframe>\n"
      ]
     },
     "metadata": {},
     "output_type": "display_data"
    }
   ],
   "source": [
    "fig = visualization.plot_substation_measurements(station_b_val, \"B\")\n",
    "station_b_val['VNUUIST_prediction'] = y_pred\n",
    "fig.add_trace(go.Scatter(x=station_b_val.index, y=station_b_val['VNUUIST_prediction'], name='VNUUIST_prediction'), row=1, col=1)\n",
    "fig.show()"
   ]
  },
  {
   "cell_type": "markdown",
   "metadata": {},
   "source": [
    "### Benchmarking\n",
    "Let's how our model would have performed compared to an ex-post decision of turning the shunt reactor on or off."
   ]
  },
  {
   "cell_type": "code",
   "execution_count": 34,
   "metadata": {},
   "outputs": [],
   "source": [
    "pars = {\n",
    "    'B': {\n",
    "        'sensitivity': 0.0454, # [kV/MVar]\n",
    "        'reactive_power_min': 35.0, # [MVar]\n",
    "        'reactive_power_max': 90.0, # [MVar]\n",
    "    },\n",
    "    'A': {\n",
    "        'sensitivity': 0.0277, # [kV/MVar]\n",
    "        'reactive_power_min': 35.0, # [MVar]\n",
    "        'reactive_power_max': 90.0, # [MVar]\n",
    "    }\n",
    "}"
   ]
  },
  {
   "cell_type": "code",
   "execution_count": 35,
   "metadata": {},
   "outputs": [
    {
     "name": "stdout",
     "output_type": "stream",
     "text": [
      "Reward achieved by operating the shunt reactor as in the validation dataset: 25728.0.\n",
      "Extra reaward points with theoretical optimal switching strategy: 171.0.\n"
     ]
    }
   ],
   "source": [
    "import pandas as pd\n",
    "\n",
    "# calculate reward points achieved for the validation dataset\n",
    "reward_base = eval.reward_sum(\n",
    "    station_b_val[\"ZLQZLQSPHSDL_VNUUIST\"].values - station_b_val[\"ZLQZLQSPHSDL_VNUUSOL\"].values, \n",
    "    (station_b_val['ZLQZLQ110KOMDROQ'] > 1.0).values, \n",
    "    weighing_factors=np.ones(station_b_val.shape[0]))\n",
    "print(f'Reward achieved by operating the shunt reactor as in the validation dataset: {reward_base}.')\n",
    "\n",
    "# Additional reward points with theoretical optimal switching strategy\n",
    "# and the theoretical voltage calculated with a system linearization.\n",
    "station_b_val['dV'] = station_b_val[\"ZLQZLQSPHSDL_VNUUIST\"] - station_b_val[\"ZLQZLQSPHSDL_VNUUSOL\"]\n",
    "station_b_val[['points_realized', 'virtual_points_maximal', 'virtual_dV_opt', 'virtual_WQ_opt']] = \\\n",
    "    station_b_val.apply(lambda row: pd.Series(eval.maximize_virtual_points(row['dV'], row['ZLQZLQ110KOMDROQ'], pars['B']['sensitivity'])), axis=1)\n",
    "virtual_optimal_additional_reward = (station_b_val['virtual_points_maximal'] - station_b_val['points_realized']).sum()\n",
    "print(f'Extra reaward points with theoretical optimal switching strategy: {virtual_optimal_additional_reward}.')"
   ]
  },
  {
   "cell_type": "code",
   "execution_count": 36,
   "metadata": {},
   "outputs": [
    {
     "name": "stdout",
     "output_type": "stream",
     "text": [
      "Extra reward points with a switching strategy based on our voltage prediction: 3.0.\n"
     ]
    }
   ],
   "source": [
    "# How many points would our prediction achieve?\n",
    "# TODO: make a function that only calculates the would have been points\n",
    "station_b_val['dV_pred'] = station_b_val[\"VNUUIST_prediction\"] - station_b_val[\"ZLQZLQSPHSDL_VNUUSOL\"]\n",
    "station_b_val[['virtual_realized_reward', 'virtual_optimal_reward', 'virtual_optimal_WQ']] = \\\n",
    "    station_b_val.apply(lambda row: pd.Series(eval.alternative_strategy_reward(row['dV'], row['dV_pred'], row['ZLQZLQ110KOMDROQ'], pars['B']['sensitivity'])), axis=1)\n",
    "model_virtual_additional_reward = (station_b_val['virtual_realized_reward'] - station_b_val['points_realized']).sum()\n",
    "print(f'Extra reward points with a switching strategy based on our voltage prediction: {model_virtual_additional_reward}.')"
   ]
  },
  {
   "cell_type": "markdown",
   "metadata": {},
   "source": [
    "# Next Steps for You\n",
    "As you see, there is definitely room for improvement when considering what is theoretically possible and what our simple model achieved. There are several things you might want to look at before you jump into training a model to predict voltages:\n",
    "- The correlation (matrix) of different features at the same point in time, as well as with future values of the voltage. For example, the voltage at t0 is highly correlated with the voltage at t0+15min. How do different weather and energy production impact voltages?\n",
    "- How will you deal with the feedback effect of the shunt reactor on the system. Whether you turn it off or on will impact the voltage that will be present in the system. Additionally, this has also led to a bias in the training and validation data. The shunt reactor, in general, was turned off when the voltage was too low and on elsewise. \n",
    "- If you use a non-linear model, you might want to try to predict the deviation of the measured voltage from the target voltage (VNUUIST - VNUUSOL) instead of the absolute of the measured voltage."
   ]
  },
  {
   "cell_type": "code",
   "execution_count": 37,
   "metadata": {},
   "outputs": [
    {
     "data": {
      "text/plain": [
       "Index(['ZLQPRQ220TR_22+Q', 'ZLQPRQ220TR_21+Q', 'ZLQPRU220TR_21+P',\n",
       "       'ZLQPRQ220TR_21+P', 'ZLQPRQ220TR_22+P', 'ZLQPRU220TR_21+Q',\n",
       "       'ZLQZLQ220TR_21+P', 'ZLQZLQ220TR_21+Q', 'ZLQZLQ220SS_1++U_L12',\n",
       "       'ZLQZLQ220SS_2++U_L12', 'ZLQZLQ110KOMDROQ', 'ZLQZLQ220TR_22+Q',\n",
       "       'ZLQZLQ220TR_22+P', 'ZLQZLQSPHSDL_VNUUIST', 'ZLQZLQSPHSDL_VNUUSOL',\n",
       "       'CH Biomass [MW]', 'CH Fossil Brown coal/Lignite [MW]',\n",
       "       'CH Fossil Coal-derived gas [MW]', 'CH Fossil Gas [MW]',\n",
       "       'CH Fossil Hard coal [MW]', 'CH Fossil Oil [MW]',\n",
       "       'CH Fossil Oil shale [MW]', 'CH Fossil Peat [MW]', 'CH Geothermal [MW]',\n",
       "       'CH Hydro Pumped Storage [MW]',\n",
       "       'CH Hydro Pumped Storage  - Actual Consumption [MW]',\n",
       "       'CH Hydro Run-of-river and poundage [MW]',\n",
       "       'CH Hydro Water Reservoir [MW]', 'CH Marine [MW]', 'CH Nuclear [MW]',\n",
       "       'CH Other [MW]', 'CH Other renewable [MW]', 'CH Solar [MW]',\n",
       "       'CH Waste [MW]', 'CH Wind Offshore [MW]', 'CH Wind Onshore [MW]',\n",
       "       'DE Biomass [MW]', 'DE Fossil Brown coal/Lignite [MW]',\n",
       "       'DE Fossil Coal-derived gas [MW]', 'DE Fossil Gas [MW]',\n",
       "       'DE Fossil Hard coal [MW]', 'DE Fossil Oil [MW]',\n",
       "       'DE Fossil Oil shale [MW]', 'DE Fossil Peat [MW]', 'DE Geothermal [MW]',\n",
       "       'DE Hydro Pumped Storage [MW]',\n",
       "       'DE Hydro Pumped Storage  - Actual Consumption [MW]',\n",
       "       'DE Hydro Run-of-river and poundage [MW]',\n",
       "       'DE Hydro Water Reservoir [MW]', 'DE Marine [MW]', 'DE Nuclear [MW]',\n",
       "       'DE Other [MW]', 'DE Other renewable [MW]', 'DE Solar [MW]',\n",
       "       'DE Waste [MW]', 'DE Wind Offshore [MW]', 'DE Wind Onshore [MW]',\n",
       "       'Temperature [2 m elevation corrected]', 'Precipitation Total',\n",
       "       'Snowfall Amount', 'Wind Speed [10 m]', 'Wind Direction [10 m]',\n",
       "       'Sunshine Duration', 'Shortwave Radiation', 'Longwave Radiation',\n",
       "       'UV Radiation', 'Direct Shortwave Radiation',\n",
       "       'Diffuse Shortwave Radiation', 'hour_sin', 'hour_cos', 'dayofyear_sin',\n",
       "       'dayofyear_cos', 'dayofweek_sin', 'dayofweek_cos', 'holiday',\n",
       "       'VNUUIST_prediction', 'dV', 'points_realized', 'virtual_points_maximal',\n",
       "       'virtual_dV_opt', 'virtual_WQ_opt', 'dV_pred',\n",
       "       'virtual_realized_reward', 'virtual_optimal_reward',\n",
       "       'virtual_optimal_WQ'],\n",
       "      dtype='object')"
      ]
     },
     "execution_count": 37,
     "metadata": {},
     "output_type": "execute_result"
    }
   ],
   "source": [
    "station_b_val.columns.unique()"
   ]
  },
  {
   "cell_type": "code",
   "execution_count": 38,
   "metadata": {},
   "outputs": [
    {
     "data": {
      "text/plain": [
       "Index(['ZLQPRQ220TR_22+P', 'ZLQPRQ220TR_21+Q', 'ZLQPRQ220TR_22+Q',\n",
       "       'ZLQPRU220TR_21+P', 'ZLQPRQ220TR_21+P', 'ZLQPRU220TR_21+Q',\n",
       "       'ZLQZLQ220TR_21+Q', 'ZLQZLQ220TR_22+P', 'ZLQZLQ220TR_21+P',\n",
       "       'ZLQZLQ220SS_1++U_L12', 'ZLQZLQSPHSDL_VNUUIST', 'ZLQZLQ220SS_2++U_L12',\n",
       "       'ZLQZLQSPHSDL_VNUUSOL', 'ZLQZLQ110KOMDROQ', 'ZLQZLQ220TR_22+Q',\n",
       "       'CH Biomass [MW]', 'CH Fossil Brown coal/Lignite [MW]',\n",
       "       'CH Fossil Coal-derived gas [MW]', 'CH Fossil Gas [MW]',\n",
       "       'CH Fossil Hard coal [MW]', 'CH Fossil Oil [MW]',\n",
       "       'CH Fossil Oil shale [MW]', 'CH Fossil Peat [MW]', 'CH Geothermal [MW]',\n",
       "       'CH Hydro Pumped Storage [MW]',\n",
       "       'CH Hydro Pumped Storage  - Actual Consumption [MW]',\n",
       "       'CH Hydro Run-of-river and poundage [MW]',\n",
       "       'CH Hydro Water Reservoir [MW]', 'CH Marine [MW]', 'CH Nuclear [MW]',\n",
       "       'CH Other [MW]', 'CH Other renewable [MW]', 'CH Solar [MW]',\n",
       "       'CH Waste [MW]', 'CH Wind Offshore [MW]', 'CH Wind Onshore [MW]',\n",
       "       'DE Biomass [MW]', 'DE Fossil Brown coal/Lignite [MW]',\n",
       "       'DE Fossil Coal-derived gas [MW]', 'DE Fossil Gas [MW]',\n",
       "       'DE Fossil Hard coal [MW]', 'DE Fossil Oil [MW]',\n",
       "       'DE Fossil Oil shale [MW]', 'DE Fossil Peat [MW]', 'DE Geothermal [MW]',\n",
       "       'DE Hydro Pumped Storage [MW]',\n",
       "       'DE Hydro Pumped Storage  - Actual Consumption [MW]',\n",
       "       'DE Hydro Run-of-river and poundage [MW]',\n",
       "       'DE Hydro Water Reservoir [MW]', 'DE Marine [MW]', 'DE Nuclear [MW]',\n",
       "       'DE Other [MW]', 'DE Other renewable [MW]', 'DE Solar [MW]',\n",
       "       'DE Waste [MW]', 'DE Wind Offshore [MW]', 'DE Wind Onshore [MW]',\n",
       "       'Temperature [2 m elevation corrected]', 'Precipitation Total',\n",
       "       'Snowfall Amount', 'Wind Speed [10 m]', 'Wind Direction [10 m]',\n",
       "       'Sunshine Duration', 'Shortwave Radiation', 'Longwave Radiation',\n",
       "       'UV Radiation', 'Direct Shortwave Radiation',\n",
       "       'Diffuse Shortwave Radiation', 'hour_sin', 'hour_cos', 'dayofyear_sin',\n",
       "       'dayofyear_cos', 'dayofweek_sin', 'dayofweek_cos', 'holiday'],\n",
       "      dtype='object')"
      ]
     },
     "execution_count": 38,
     "metadata": {},
     "output_type": "execute_result"
    }
   ],
   "source": [
    "station_b_train.columns.unique()"
   ]
  },
  {
   "cell_type": "code",
   "execution_count": 39,
   "metadata": {},
   "outputs": [
    {
     "data": {
      "text/plain": [
       "Index(['EUHIDO220TR_21+P', 'EUHIDO110KOMDROQ', 'EUHIDO220SS_1++U_L31',\n",
       "       'EUHIDO220SS_2A+U_L31', 'EUHIDO220TR_21+Q', 'EUHIDO220TR_22+P',\n",
       "       'EUHWRH220TR_21+P', 'EUHWRH220TR_21+Q', 'EUHIDOSPHSDL_VNUUIST',\n",
       "       'EUHIDOSPHSDL_VNUUSOL', 'JU\\DDW220TR_21+Q', 'JU\\DDW220TR_22+Q',\n",
       "       'JU\\DDW220TR_21+P', 'JU\\DDW220TR_22+P', 'EUHIDO220TR_22+Q',\n",
       "       'EUHWRH220TR_22+P', 'EUHWRH220TR_22+Q', 'CH Biomass [MW]',\n",
       "       'CH Fossil Brown coal/Lignite [MW]', 'CH Fossil Coal-derived gas [MW]',\n",
       "       'CH Fossil Gas [MW]', 'CH Fossil Hard coal [MW]', 'CH Fossil Oil [MW]',\n",
       "       'CH Fossil Oil shale [MW]', 'CH Fossil Peat [MW]', 'CH Geothermal [MW]',\n",
       "       'CH Hydro Pumped Storage [MW]',\n",
       "       'CH Hydro Pumped Storage  - Actual Consumption [MW]',\n",
       "       'CH Hydro Run-of-river and poundage [MW]',\n",
       "       'CH Hydro Water Reservoir [MW]', 'CH Marine [MW]', 'CH Nuclear [MW]',\n",
       "       'CH Other [MW]', 'CH Other renewable [MW]', 'CH Solar [MW]',\n",
       "       'CH Waste [MW]', 'CH Wind Offshore [MW]', 'CH Wind Onshore [MW]',\n",
       "       'DE Biomass [MW]', 'DE Fossil Brown coal/Lignite [MW]',\n",
       "       'DE Fossil Coal-derived gas [MW]', 'DE Fossil Gas [MW]',\n",
       "       'DE Fossil Hard coal [MW]', 'DE Fossil Oil [MW]',\n",
       "       'DE Fossil Oil shale [MW]', 'DE Fossil Peat [MW]', 'DE Geothermal [MW]',\n",
       "       'DE Hydro Pumped Storage [MW]',\n",
       "       'DE Hydro Pumped Storage  - Actual Consumption [MW]',\n",
       "       'DE Hydro Run-of-river and poundage [MW]',\n",
       "       'DE Hydro Water Reservoir [MW]', 'DE Marine [MW]', 'DE Nuclear [MW]',\n",
       "       'DE Other [MW]', 'DE Other renewable [MW]', 'DE Solar [MW]',\n",
       "       'DE Waste [MW]', 'DE Wind Offshore [MW]', 'DE Wind Onshore [MW]',\n",
       "       'Temperature [2 m elevation corrected]', 'Precipitation Total',\n",
       "       'Snowfall Amount', 'Wind Speed [10 m]', 'Wind Direction [10 m]',\n",
       "       'Sunshine Duration', 'Shortwave Radiation', 'Longwave Radiation',\n",
       "       'UV Radiation', 'Direct Shortwave Radiation',\n",
       "       'Diffuse Shortwave Radiation'],\n",
       "      dtype='object')"
      ]
     },
     "execution_count": 39,
     "metadata": {},
     "output_type": "execute_result"
    }
   ],
   "source": [
    "station_a_train.columns.unique()"
   ]
  },
  {
   "cell_type": "code",
   "execution_count": 41,
   "metadata": {},
   "outputs": [
    {
     "name": "stdout",
     "output_type": "stream",
     "text": [
      "None\n"
     ]
    }
   ],
   "source": [
    "import cvxpy as cp\n",
    "import numpy as np\n",
    "\n",
    "# Optimization problem with one DeltaV only. Taking the worst case dV could be a simplified solution\n",
    "# the decision variable a decides when to switch on or off the shunt\n",
    "# The caviat of it is that the penalty is sized with the dV the way the obj is defined. Another way must be found to normalize it\n",
    "# but see commented obj below --> if normalized in the objective function, problem becomes infeasible\n",
    "\n",
    "# Construct the problem.\n",
    "\n",
    "dv1 = station_b_val[\"VNUUIST_prediction\"] - station_b_val[\"ZLQZLQSPHSDL_VNUUSOL\"]\n",
    "dv1 = dv1[50*96:53*96].to_numpy()\n",
    "a = cp.Variable(dv1.shape[0], integer=True)\n",
    "\n",
    "# dv1 = np.array([-2, -3, -5, -3, -1, 0, 2, 5, 3])\n",
    "# dv2 = np.array([-1,  0, -2,  3,  2, 4, 2, 1, 3])\n",
    "\n",
    "\n",
    "obj = sum(cp.multiply(a,(cp.maximum(0, dv1+1) - 6*(cp.maximum(0, -2-dv1)))) \\\n",
    "      + cp.multiply((1-a), cp.maximum(0, 1-dv1) - 6*(cp.maximum(0, dv1-2))))\n",
    "\n",
    "#obj = sum(a*(cp.maximum(0, (a*dv1 + (1-a)*dv2) - 1)/((a*dv1 + (1-a)*dv2) - 1) - 6*(cp.maximum(0, (a*dv1 + (1-a)*dv2) + 2)/(a*dv1 + (1-a)*dv2) + 2)) \\\n",
    "#     + (1-a)*(cp.maximum(0, 1-(a*dv1 + (1-a)*dv2))/(1-(a*dv1 + (1-a)*dv2)) - 6*(cp.maximum(0, (a*dv1 + (1-a)*dv2) -2)/(a*dv1 + (1-a)*dv2) -2)))\n",
    "\n",
    "objective = cp.Maximize(obj)\n",
    "constraints = [0 <= a, a <= 1, sum(cp.abs(cp.diff(a))) <= 6]\n",
    "prob = cp.Problem(objective, constraints)\n",
    "\n",
    "# The optimal objective value is returned by `prob.solve()`.\n",
    "result = prob.solve()\n",
    "# The optimal Lagrange multiplier for a constraint is stored in\n",
    "# `constraint.dual_value`.\n",
    "print(constraints[0].dual_value)"
   ]
  },
  {
   "cell_type": "code",
   "execution_count": 23,
   "metadata": {},
   "outputs": [
    {
     "name": "stdout",
     "output_type": "stream",
     "text": [
      "None\n"
     ]
    }
   ],
   "source": [
    "import cvxpy as cp\n",
    "import numpy as np\n",
    "\n",
    "\n",
    "# Construct the problem.\n",
    "\n",
    "dv1 = station_b_val[\"VNUUIST_prediction\"] - station_b_val[\"ZLQZLQSPHSDL_VNUUSOL\"]\n",
    "dv1 = dv1[50*96:53*96].to_numpy()\n",
    "x1 = cp.Variable((dv1.shape[0]), integer=True)\n",
    "x2 = cp.Variable((dv1.shape[0]), integer=True)\n",
    "x3 = cp.Variable((dv1.shape[0]), integer=True)\n",
    "x4 = cp.Variable((dv1.shape[0]), integer=True)\n",
    "\n",
    "# dv1 = np.array([-2, -3, -5, -3, -1, 0, 2, 5, 3])\n",
    "# dv2 = np.array([-1,  0, -2,  3,  2, 4, 2, 1, 3])\n",
    "\n",
    "\n",
    "# obj = sum(cp.multiply(a,(cp.maximum(0, dv1+1) - 6*(cp.maximum(0, -2-dv1)))) \\\n",
    "#      + cp.multiply((1-a), cp.maximum(0, 1-dv1) - 6*(cp.maximum(0, dv1-2))))\n",
    "\n",
    "obj = sum(x1 - 6*x2 + x3 -6*x4)\n",
    "\n",
    "#obj = sum(a*(cp.maximum(0, (a*dv1 + (1-a)*dv2) - 1)/((a*dv1 + (1-a)*dv2) - 1) - 6*(cp.maximum(0, (a*dv1 + (1-a)*dv2) + 2)/(a*dv1 + (1-a)*dv2) + 2)) \\\n",
    "#     + (1-a)*(cp.maximum(0, 1-(a*dv1 + (1-a)*dv2))/(1-(a*dv1 + (1-a)*dv2)) - 6*(cp.maximum(0, (a*dv1 + (1-a)*dv2) -2)/(a*dv1 + (1-a)*dv2) -2)))\n",
    "\n",
    "M = cp.Constant(10000)\n",
    "\n",
    "objective = cp.Maximize(obj)\n",
    "constraints = [0 <= x1, x1 <= 1,\n",
    "               0 <= x2, x2 <= 1,\n",
    "               0 <= x3, x3 <= 1,\n",
    "               0 <= x4, x4 <= 1,\n",
    "               M*x1 >= dv1 + 1,\n",
    "               M*(1-x1) >= -1 - dv1,\n",
    "               M*x2 >= - dv1 - 2,\n",
    "               M*(1-x2) >= dv1 + 2,\n",
    "               M*x3 >= 1 - dv1,\n",
    "               M*(1-x3) >= dv1 - 1,\n",
    "               M*x4 >= dv1 - 2,\n",
    "               M*(1-x4) >= 2 - dv1]\n",
    "\n",
    "prob = cp.Problem(objective, constraints)\n",
    "\n",
    "# The optimal objective value is returned by `prob.solve()`.\n",
    "result = prob.solve()\n",
    "# The optimal Lagrange multiplier for a constraint is stored in\n",
    "# `constraint.dual_value`.\n",
    "print(constraints[0].dual_value)"
   ]
  },
  {
   "cell_type": "code",
   "execution_count": 42,
   "metadata": {},
   "outputs": [
    {
     "data": {
      "text/plain": [
       "<matplotlib.legend.Legend at 0x7fae568971f0>"
      ]
     },
     "execution_count": 42,
     "metadata": {},
     "output_type": "execute_result"
    },
    {
     "data": {
      "image/png": "[encoded data removed]",
      "text/plain": [
       "<Figure size 640x480 with 2 Axes>"
      ]
     },
     "metadata": {},
     "output_type": "display_data"
    }
   ],
   "source": [
    "import matplotlib.pyplot as plt\n",
    "\n",
    "\n",
    "fig, axs = plt.subplots(2, 1, layout='constrained')\n",
    "axs[0].plot(station_b_val.index[:288], station_b_val[\"VNUUIST_prediction\"][:288], \n",
    "            station_b_val.index[:288], station_b_val[\"ZLQZLQSPHSDL_VNUUSOL\"][:288])\n",
    "axs[0].grid(True)\n",
    "axs[1].plot(station_b_val.index[:288], a.value)\n",
    "axs[0].legend(['Voltage prediction', 'Voltage Target'])\n",
    "\n",
    "\n"
   ]
  },
  {
   "cell_type": "code",
   "execution_count": null,
   "metadata": {},
   "outputs": [],
   "source": []
  }
 ],
 "metadata": {
  "kernelspec": {
   "display_name": "edh_venv",
   "language": "python",
   "name": "edh_venv"
  },
  "language_info": {
   "codemirror_mode": {
    "name": "ipython",
    "version": 3
   },
   "file_extension": ".py",
   "mimetype": "text/x-python",
   "name": "python",
   "nbconvert_exporter": "python",
   "pygments_lexer": "ipython3",
   "version": "3.10.10"
  }
 },
 "nbformat": 4,
 "nbformat_minor": 4
}
